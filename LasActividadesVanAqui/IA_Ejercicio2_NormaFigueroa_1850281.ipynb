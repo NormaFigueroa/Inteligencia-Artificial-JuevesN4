{
  "nbformat": 4,
  "nbformat_minor": 0,
  "metadata": {
    "colab": {
      "name": "IA_Ejercicio2_NormaFigueroa_1850281",
      "provenance": [],
      "collapsed_sections": []
    },
    "kernelspec": {
      "name": "python3",
      "display_name": "Python 3"
    },
    "language_info": {
      "name": "python"
    }
  },
  "cells": [
    {
      "cell_type": "markdown",
      "metadata": {
        "id": "_1ZLXMVkMUKx"
      },
      "source": [
        "# Actividad 3 - Ejercicios Introducción a Python, 2° Parte\n",
        "### Norma Esthela Figueroa Flores  Matricula: 1850281   Hora: Jueves N4"
      ]
    },
    {
      "cell_type": "markdown",
      "metadata": {
        "id": "Fu_l9hLiMyQY"
      },
      "source": [
        "## Ejercicio 1\n",
        "\n",
        "> 1.1 Piensa en 7 comidas diferentes que te gusten. Implementa un programa que pregunte por las 7 comidas, las almacene en una lista y que posteriormente imprima cada una de ellas utilizando uno de los ciclos comentados en clase.\n",
        "\n",
        "\n",
        "\n",
        "> 1.2 Modifica el ejercicio 1.1 para que imprima cada una de las comidas favoritas junto con una oracion inicial : \"Una de mis comidas favoritas es [comida1]\"\n",
        "\n"
      ]
    },
    {
      "cell_type": "code",
      "metadata": {
        "colab": {
          "base_uri": "https://localhost:8080/"
        },
        "id": "-mLF14QEMFZk",
        "outputId": "7a11b013-26c4-4757-ad66-2d9435080069"
      },
      "source": [
        "lista=[] #Se crea una lista vacia donde se va a almacenar los alimentos\n",
        "print(\"Ejercicio 1.1\")\n",
        "while len(lista)<7:  #Se crea un ciclo para preguntar las comidas \n",
        "  comida=input(\"Ingrese su comida favorita: \")\n",
        "  lista.append(comida) #Aqui se pide que se vayan añadiendo a la lista lo que se escriba en la variable comida.\n",
        "for i in lista:\n",
        "  print(i) # Aqui se usa el for para imprimir cada elemento de la lista por separado\n",
        "print(\"\\nEjercicio 1.2\")\n",
        "for comida in lista: \n",
        "  print(\"Una de mis comidas favoritas es: \",comida)\n"
      ],
      "execution_count": null,
      "outputs": [
        {
          "output_type": "stream",
          "name": "stdout",
          "text": [
            "Ejercicio 1.1\n",
            "Ingrese su comida favorita: Pizza\n",
            "Ingrese su comida favorita: Hamburguesa\n",
            "Ingrese su comida favorita: Tacos\n",
            "Ingrese su comida favorita: Boneless\n",
            "Ingrese su comida favorita: Carne\n",
            "Ingrese su comida favorita: Sushi\n",
            "Ingrese su comida favorita: Pescado\n",
            "Pizza\n",
            "Hamburguesa\n",
            "Tacos\n",
            "Boneless\n",
            "Carne\n",
            "Sushi\n",
            "Pescado\n",
            "\n",
            "Ejercicio 1.2\n",
            "Una de mis comidas favoritas es:  Pizza\n",
            "Una de mis comidas favoritas es:  Hamburguesa\n",
            "Una de mis comidas favoritas es:  Tacos\n",
            "Una de mis comidas favoritas es:  Boneless\n",
            "Una de mis comidas favoritas es:  Carne\n",
            "Una de mis comidas favoritas es:  Sushi\n",
            "Una de mis comidas favoritas es:  Pescado\n"
          ]
        }
      ]
    },
    {
      "cell_type": "markdown",
      "metadata": {
        "id": "xR3VU177Mypz"
      },
      "source": [
        "## Ejercicio 2\n",
        "Crear un juego de piedra, papel o tijera de dos jugadores. El programa preguntará por la opcion del jugador 1 y la opción del jugador 2 y dará como resultado quien ganó el juego."
      ]
    },
    {
      "cell_type": "code",
      "metadata": {
        "colab": {
          "base_uri": "https://localhost:8080/"
        },
        "id": "WMaQQukXN5cw",
        "outputId": "fe1c1d93-180c-46b0-ef26-3b1f8cf65b0d"
      },
      "source": [
        "print(\"Juego de piedra, papel o tijera\")\n",
        "#Declaracion de variables\n",
        "jugador1=0 \n",
        "jugador2=0\n",
        "#Creamos un menu que le pedira a cada jugador que elija con que va a jugar y que no continue hasta que sea un número valido\n",
        "while jugador1<1 or jugador1>3:\n",
        "  print(\"\\n Turno del jugador 1, Por favor elige una opción:\")\n",
        "  print(\"\\n 1. Piedra \\n 2. Papel \\n 3. Tijera \\n\")\n",
        "  jugador1=int(input(\"Escriba el número de su elección: \"))\n",
        "while jugador2<1 or jugador2>3:\n",
        "  print(\"\\n Turno del jugador 2, Por favor elige una opción:\")\n",
        "  print(\"\\n 1. Piedra \\n 2. Papel \\n 3. Tijera \\n\")\n",
        "  jugador2=int(input(\"Escriba el número de su elección: \"))\n",
        "#Aqui se hace la comparacion de como puede ganar cada jugador  o si ninguno ganara debe de declarar empate\n",
        "if((jugador1==1 and jugador2==2) or (jugador1==2 and jugador2==3) or (jugador1==3 and jugador2==1)):\n",
        "  print(\"El jugador 2 ha ganado.¡Felicidades!\")\n",
        "elif((jugador2==1 and jugador1==2) or (jugador2==2 and jugador1==3) or (jugador2==3 and jugador1==1)):\n",
        "  print(\"El jugador 1 ha ganado.¡Felicidades!\")\n",
        "else:\n",
        "  print(\"Ha sido un empate\")\n"
      ],
      "execution_count": null,
      "outputs": [
        {
          "output_type": "stream",
          "name": "stdout",
          "text": [
            "Juego de piedra, papel o tijera\n",
            "\n",
            " Turno del jugador 1, Por favor elige una opción:\n",
            "\n",
            " 1. Piedra \n",
            " 2. Papel \n",
            " 3. Tijera \n",
            "\n",
            "Escriba el número de su elección: 1\n",
            "\n",
            " Turno del jugador 2, Por favor elige una opción:\n",
            "\n",
            " 1. Piedra \n",
            " 2. Papel \n",
            " 3. Tijera \n",
            "\n",
            "Escriba el número de su elección: 3\n",
            "El jugador 1 ha ganado.¡Felicidades!\n"
          ]
        }
      ]
    },
    {
      "cell_type": "markdown",
      "metadata": {
        "id": "3PciY8FSNX1R"
      },
      "source": [
        "## Ejercicio 3\n",
        "Implementar un programa que imprima el siguiente patron:\n",
        "\n",
        "123456\n",
        "\n",
        "12345\n",
        "\n",
        "1234\n",
        "\n",
        "123\n",
        "\n",
        "12\n",
        "\n",
        "1\n",
        "\n",
        "12\n",
        "\n",
        "123\n",
        "\n",
        "1234\n",
        "\n",
        "12345\n",
        "\n",
        "123456"
      ]
    },
    {
      "cell_type": "code",
      "metadata": {
        "colab": {
          "base_uri": "https://localhost:8080/"
        },
        "id": "DYxRqApTO4xT",
        "outputId": "924e7dad-428d-4594-aac8-0f39a6864626"
      },
      "source": [
        "numeros=(123456,12345,1234,123,12,1) #Aqui se crea una tupla de la serie de numeros que deseamos.\n",
        "i=0 #Se inicializa una variable que usaremos de contador.\n",
        "# Establecemos el primer loop que nos permitira imprimir cada numero de la tupla al ser indexado hasta llegar al penultimo numero.\n",
        "while i<=4:\n",
        "  print(numeros[i])\n",
        "  i+=1\n",
        "i+=1 #se le suma 1 al valor final de la i para que tome encuenta el ultimo numero de la tupla.\n",
        "#Establecemos el segundo loop que nos permitira ir decrementando la i e ir imprimiendo el numero indexado, hasta llegar al primer numero en la tupla.\n",
        "while i>=1:\n",
        "  i-=1\n",
        "  print(numeros[i]) "
      ],
      "execution_count": 4,
      "outputs": [
        {
          "output_type": "stream",
          "name": "stdout",
          "text": [
            "123456\n",
            "12345\n",
            "1234\n",
            "123\n",
            "12\n",
            "1\n",
            "12\n",
            "123\n",
            "1234\n",
            "12345\n",
            "123456\n"
          ]
        }
      ]
    },
    {
      "cell_type": "code",
      "metadata": {
        "id": "LHzYtX29vNyE"
      },
      "source": [
        ""
      ],
      "execution_count": null,
      "outputs": []
    }
  ]
}