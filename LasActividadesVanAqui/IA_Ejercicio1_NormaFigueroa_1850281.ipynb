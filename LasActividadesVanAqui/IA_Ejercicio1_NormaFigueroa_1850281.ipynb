{
  "nbformat": 4,
  "nbformat_minor": 0,
  "metadata": {
    "colab": {
      "name": "IA_Ejercicio1_NormaFigueroa_1850281",
      "provenance": []
    },
    "kernelspec": {
      "name": "python3",
      "display_name": "Python 3"
    },
    "language_info": {
      "name": "python"
    }
  },
  "cells": [
    {
      "cell_type": "markdown",
      "metadata": {
        "id": "TAtmw6xucyun"
      },
      "source": [
        "# Actividad 2- Ejercicios Introducción Python \n",
        "## Norma Esthela Figueroa Flores  Matricula:1850281   Dia y Hora: Jueves N4\n",
        "\n",
        "\n"
      ]
    },
    {
      "cell_type": "markdown",
      "metadata": {
        "id": "z4f_BH--d6Nt"
      },
      "source": [
        "### Ejercicio 1\n",
        "Crear un programa que pregunte al usuario por su nombre, edad, una frase favorita y autor de la frase favorita. El programa deberá de imprimir un mensaje compuesto por el nombre y edad del usuario diciendo que su frase favorita es la que dió anteriormente y el autor de dicha frase es el nombre previamente dado. Aquí habrá que realizar una concatenación de variables."
      ]
    },
    {
      "cell_type": "code",
      "metadata": {
        "colab": {
          "base_uri": "https://localhost:8080/"
        },
        "id": "x5e7cFtJdOn4",
        "outputId": "51b92ae9-467c-4159-b797-6e7f1a2547dd"
      },
      "source": [
        "#Declaración de variables.\n",
        "nombre = input(\"Ingrese su nombre: \")\n",
        "edad = input(\"Ingrese su edad: \")\n",
        "frase_favorita = input(\"Ingrese su frase favorita: \")\n",
        "autor = input(\"Ingrese el autor de la frase: \")\n",
        "#Impresión de los resultados.  La variable *edad* se deja como dato de tipo texto para hacer posible la concatenación de variables.\n",
        "#Se utilizan comillas simples para expresar donde inicia y termina la frase.\n",
        "print(nombre+\" \"+edad+\", mi frase favorita es : '\"+frase_favorita+\"' su autor fue \"+autor)"
      ],
      "execution_count": 16,
      "outputs": [
        {
          "output_type": "stream",
          "text": [
            "Ingrese su nombre: Norma Figueroa\n",
            "Ingrese su edad: 20\n",
            "Ingrese su frase favorita: Tú no eres una mala persona. Eres una persona muy buena a la que le han pasado cosas malas.\n",
            "Ingrese el autor de la frase: J.K Rowling\n",
            "Norma Figueroa 20, mi frase favorita es : 'Tú no eres una mala persona. Eres una persona muy buena a la que le han pasado cosas malas.' su autor fue J.K Rowling\n"
          ],
          "name": "stdout"
        }
      ]
    },
    {
      "cell_type": "markdown",
      "metadata": {
        "id": "vrH5AxGPedys"
      },
      "source": [
        "### Ejercicio 2\n",
        "Crear un programa que le pida al usuario capturar dos números enteros y dos números flotantes. Después, realizará la suma, resta, multiplicación y división, de ambos pares de números. Como resultado se deberán de obtener 8 valores. Imprimir todos estos resultados."
      ]
    },
    {
      "cell_type": "code",
      "metadata": {
        "colab": {
          "base_uri": "https://localhost:8080/"
        },
        "id": "1FkLKlY5e4xI",
        "outputId": "6ff6d057-c183-4271-b0d8-59f4d66de26a"
      },
      "source": [
        "#Declaración de variables.\n",
        "num1 = int(input(\"Ingrese un número entero: \"))\n",
        "num2 = int(input(\"Ingrsese otro número entero: \"))\n",
        "num3 = float(input(\"Ingrese un número decimal: \"))\n",
        "num4 = float(input(\"Ingrese otro número decimal: \"))\n",
        "#Se realiza la suma de los pares de números correspondientes.\n",
        "suma1 = num1+num2\n",
        "suma2 = num3+num4\n",
        "#Se realiza la resta de los pares de números correspondientes.\n",
        "res1 = num1-num2\n",
        "res2 = num3-num4\n",
        "#Se realiza la multiplicación de los pares de números correspondientes.\n",
        "mul1 = num1*num2\n",
        "mul2 = num3*num4\n",
        "#Se realiza la division de los pares de números correspondientes.\n",
        "div1 = num1/num2\n",
        "div2 = num3/num4\n",
        "#Se imprimen los resultados cambiando los resultados obtenidos a datos de tipo texto o string con la funcion str() y saltos de linea con \\n\n",
        "print(\"Los resultados de los numeros enteros son: \\n Suma: \"+str(suma1)+\"\\n Resta: \"+str(res1)+\"\\n Multiplicación: \"+str(mul1)+\"\\n Division: \"+str(div1))\n",
        "print(\"Los resultados de los numeros decimales son: \\n Suma: \"+str(suma2)+\"\\n Resta: \"+str(res2)+\"\\n Multiplicación: \"+str(mul2)+\"\\n Division: \"+str(div2))"
      ],
      "execution_count": 15,
      "outputs": [
        {
          "output_type": "stream",
          "text": [
            "Ingrese un número entero: 2\n",
            "Ingrsese otro número entero: 2\n",
            "Ingrese un número decimal: 5.5\n",
            "Ingrese otro número decimal: 2.5\n",
            "Los resultados de los numeros enteros son: \n",
            " Suma: 4\n",
            " Resta: 0\n",
            " Multiplicación: 4\n",
            " Division: 1.0\n",
            "Los resultados de los numeros decimales son: \n",
            " Suma: 8.0\n",
            " Resta: 3.0\n",
            " Multiplicación: 13.75\n",
            " Division: 2.2\n"
          ],
          "name": "stdout"
        }
      ]
    },
    {
      "cell_type": "markdown",
      "metadata": {
        "id": "f6cIgOzke6Cy"
      },
      "source": [
        "### Ejercicio 3\n",
        "Crear un programa que evalúe dos expresiones lógicas con 'and', dos con 'or' y dos con 'not'. Cada expresión deberá hacer uso de operadores de comparación."
      ]
    },
    {
      "cell_type": "code",
      "metadata": {
        "colab": {
          "base_uri": "https://localhost:8080/"
        },
        "id": "cZu-mJFdfK4O",
        "outputId": "3befff3d-98c1-490e-95dc-4506ec041f85"
      },
      "source": [
        "#Declaración de variables\n",
        "x= int (input(\"Ingrese un valor de x: \"))\n",
        "y= int (input(\"Ingrese un valor de y: \"))\n",
        "#Expresiones lógicas con AND\n",
        "print(\"Expresiones evaluadas con AND\")\n",
        "print(3>x and 6==(2*y))\n",
        "print(4<=(y*2) and (3**x)==9)\n",
        "#Expresiones lógicas con OR\n",
        "print(\"Expresiones evaluadas con OR\")\n",
        "print((x*3)!= 21 or (y>4))\n",
        "print(x<=10 or y>=2)\n",
        "#Expresiones lógicas con NOT\n",
        "print(\"Expresiones evaluadas con NOT\")\n",
        "print(not (x!=3))\n",
        "print(not (y>=(x*2)))"
      ],
      "execution_count": 14,
      "outputs": [
        {
          "output_type": "stream",
          "text": [
            "Ingrese un valor de x: 21\n",
            "Ingrese un valor de y: 3\n",
            "Expresiones evaluadas con AND\n",
            "False\n",
            "False\n",
            "Expresiones evaluadas con OR\n",
            "True\n",
            "True\n",
            "Expresiones evaluadas con NOT\n",
            "False\n",
            "True\n"
          ],
          "name": "stdout"
        }
      ]
    },
    {
      "cell_type": "code",
      "metadata": {
        "id": "915ocrE0oj-B"
      },
      "source": [
        ""
      ],
      "execution_count": null,
      "outputs": []
    }
  ]
}