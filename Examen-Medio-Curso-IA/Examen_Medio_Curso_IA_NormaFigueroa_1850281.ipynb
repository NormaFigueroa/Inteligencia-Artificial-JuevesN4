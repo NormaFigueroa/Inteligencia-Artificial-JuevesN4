{
  "nbformat": 4,
  "nbformat_minor": 0,
  "metadata": {
    "colab": {
      "name": "Examen-Medio-Curso-IA-NormaFigueroa-1850281",
      "provenance": []
    },
    "kernelspec": {
      "name": "python3",
      "display_name": "Python 3"
    },
    "language_info": {
      "name": "python"
    }
  },
  "cells": [
    {
      "cell_type": "markdown",
      "metadata": {
        "id": "f2SblligFWoD"
      },
      "source": [
        "# Examen de Medio Curso de Inteligencia Artificial\n",
        "## Norma Esthela Figueroa Flores\n",
        "## Mat. 1850281\n",
        "### Jueves N4  Fecha: 22/09/2021\n",
        "\n",
        "\n",
        "\n"
      ]
    },
    {
      "cell_type": "markdown",
      "metadata": {
        "id": "XmH7sjtNFzMB"
      },
      "source": [
        "1- Desarrolla un programa que:\n",
        "\n",
        "\n",
        "*   Remueva los números pares de la lista: ex_lista=[10,15,17,21,22,34,37,40,45,52,66,68,81,84,91,94,102,105,109]\n",
        "*   Imprima la lista después de remover los números pares.\n",
        "\n"
      ]
    },
    {
      "cell_type": "code",
      "metadata": {
        "colab": {
          "base_uri": "https://localhost:8080/"
        },
        "id": "kA6M39L7_zOU",
        "outputId": "071524e1-8f5a-4326-ddaa-75b2188485f0"
      },
      "source": [
        "ex_lista=[10,15,17,21,22,34,37,40,45,52,66,68,81,84,91,94,102,105,109] #Declaramos la lista principal\n",
        "print(\"Lista original: \",ex_lista) #Imprimimos la lista original para apreciar el cambio\n",
        "i=0 # Declaramos en cero la variable i que sera nuestro indexador en la lista\n",
        "n_lista=[] #Declaramos una nueva lista para almacenar los numeros no eliminados\n",
        "#Entramos al bucle for\n",
        "for indice in ex_lista:\n",
        "  #Comprobamos si el valor del numero en la posición i es un número impar\n",
        "  if (ex_lista[i])%2 !=0:\n",
        "    n_lista.append(ex_lista[i]) #Si es impar lo almacenamos en la nueva lista\n",
        "    i+=1 #Incrementamos el valor de i\n",
        "  else:\n",
        "    i+=1 #Si es par solo pasamos al siguiente elemento en la lista\n",
        "print(\"Lista nueva sin los numeros pares: \",n_lista) #Imprimimos la lista sin los numeros pares."
      ],
      "execution_count": 14,
      "outputs": [
        {
          "output_type": "stream",
          "name": "stdout",
          "text": [
            "Lista original:  [10, 15, 17, 21, 22, 34, 37, 40, 45, 52, 66, 68, 81, 84, 91, 94, 102, 105, 109]\n",
            "Lista nueva sin los numeros pares:  [15, 17, 21, 37, 45, 81, 91, 105, 109]\n"
          ]
        }
      ]
    },
    {
      "cell_type": "markdown",
      "metadata": {
        "id": "gThdJShwHjDk"
      },
      "source": [
        "2- Desarrolla un programa que,\n",
        "\n",
        "\n",
        "*   Pregunte al usuario por sus 5 películas favoritas (dato tipo string), empezando por la mas favorita y terminando con la posición 5 con la menos favorita.\n",
        "*   Almacene estos datos en una lista\n",
        "*   Por último, iterar sobre la lista generada para imprimir 5 oraciones (1 con cada título de película) que digan: \"La película [TÍTULO DE LA PELÍCULA] está en la posición [indice+1] de mi top 5\"\n",
        "          TÍTULO DE PELíCULA: corresponde a los nombres almacenados previamente en su lista.\n",
        "          Recordatorio: Índice es la posición de un elemento dentro de una lista.\n",
        "\n",
        "\n"
      ]
    },
    {
      "cell_type": "code",
      "metadata": {
        "colab": {
          "base_uri": "https://localhost:8080/"
        },
        "id": "D6017TExIjmp",
        "outputId": "342c3848-0629-45b5-8ae3-4868fa11c152"
      },
      "source": [
        "lista_peliculas=[] #Declaramos la lista vacia donde se almacenaran los datos\n",
        "indice=0 #Se declara nuestro indice, iniciando en 0 ya que ese es la primera posición en una lista\n",
        "#Se usa un bucle while para garantizar que la lista sea de cinco elementos\n",
        "while len(lista_peliculas)<5:\n",
        "  peliculas=input(\"¿Cuál es una de sus peliculas favoritas? : \") #Se pregunta al usuario el titulo de la película\n",
        "  lista_peliculas.append(peliculas) #Se añade el título en la lista previamente creada\n",
        "#Se inicia un bucle for para poder iterar sobre la lista creando la frase solicitada\n",
        "for peliculas in lista_peliculas:\n",
        "  print(\"La película '\",peliculas,\"' está en la posición\",indice+1,\"de mi top 5.\") #Se imprime la frase, junto a el correspondiente título y el indice+1 para\n",
        "                                                                                    # no iniciar en 0\n",
        "  indice+=1 #Se suma 1 a la variable indice por cada iteración "
      ],
      "execution_count": 17,
      "outputs": [
        {
          "output_type": "stream",
          "name": "stdout",
          "text": [
            "¿Cuál es una de sus peliculas favoritas? : Harry Potter y el Prisionero de Azkaban\n",
            "¿Cuál es una de sus peliculas favoritas? : Frozen 2\n",
            "¿Cuál es una de sus peliculas favoritas? : Los juegos del Hambre En Llamas\n",
            "¿Cuál es una de sus peliculas favoritas? : La Bella y la Bestia\n",
            "¿Cuál es una de sus peliculas favoritas? : Mamma Mia\n",
            "La película ' Harry Potter y el Prisionero de Azkaban ' está en la posición 1 de mi top 5.\n",
            "La película ' Frozen 2 ' está en la posición 2 de mi top 5.\n",
            "La película ' Los juegos del Hambre En Llamas ' está en la posición 3 de mi top 5.\n",
            "La película ' La Bella y la Bestia ' está en la posición 4 de mi top 5.\n",
            "La película ' Mamma Mia ' está en la posición 5 de mi top 5.\n"
          ]
        }
      ]
    },
    {
      "cell_type": "code",
      "metadata": {
        "id": "4QpZfXrQPzCG"
      },
      "source": [
        ""
      ],
      "execution_count": 15,
      "outputs": []
    }
  ]
}